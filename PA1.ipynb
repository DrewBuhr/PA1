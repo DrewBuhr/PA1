{
 "cells": [
  {
   "cell_type": "code",
   "execution_count": 15,
   "id": "fecb4349",
   "metadata": {},
   "outputs": [
    {
     "name": "stdout",
     "output_type": "stream",
     "text": [
      "Enter a floating point number. 44.3\n"
     ]
    }
   ],
   "source": [
    "number1=float(input('Enter a floating point number. '))"
   ]
  },
  {
   "cell_type": "code",
   "execution_count": 16,
   "id": "e353999c",
   "metadata": {},
   "outputs": [
    {
     "name": "stdout",
     "output_type": "stream",
     "text": [
      "Enter an integer. 16\n"
     ]
    }
   ],
   "source": [
    "number2=int(input('Enter an integer. '))"
   ]
  },
  {
   "cell_type": "code",
   "execution_count": 35,
   "id": "841e5538",
   "metadata": {},
   "outputs": [
    {
     "name": "stdout",
     "output_type": "stream",
     "text": [
      "The sum is 60.3\n"
     ]
    }
   ],
   "source": [
    "print('The sum is', number1+number2)"
   ]
  },
  {
   "cell_type": "code",
   "execution_count": 36,
   "id": "03ee604b",
   "metadata": {},
   "outputs": [
    {
     "name": "stdout",
     "output_type": "stream",
     "text": [
      "The difference is 28.299999999999997\n"
     ]
    }
   ],
   "source": [
    "print('The difference is', number1 - number2)"
   ]
  },
  {
   "cell_type": "code",
   "execution_count": 37,
   "id": "aaf4113e",
   "metadata": {},
   "outputs": [
    {
     "name": "stdout",
     "output_type": "stream",
     "text": [
      "The product is 708.8\n"
     ]
    }
   ],
   "source": [
    "print('The product is', number1*number2)"
   ]
  },
  {
   "cell_type": "code",
   "execution_count": 44,
   "id": "90ea391b",
   "metadata": {},
   "outputs": [
    {
     "name": "stdout",
     "output_type": "stream",
     "text": [
      "The quotient is 2.76875\n"
     ]
    }
   ],
   "source": [
    "print('The quotient is',number1/number2,)"
   ]
  },
  {
   "cell_type": "code",
   "execution_count": 45,
   "id": "d98ffef9",
   "metadata": {},
   "outputs": [
    {
     "name": "stdout",
     "output_type": "stream",
     "text": [
      "The type for the result is <class 'float'>\n"
     ]
    }
   ],
   "source": [
    "print('The type for the result is',type(number1))"
   ]
  },
  {
   "cell_type": "markdown",
   "id": "cd35c743",
   "metadata": {},
   "source": [
    "# PA1, Drew Buhr, CS-150-01"
   ]
  }
 ],
 "metadata": {
  "kernelspec": {
   "display_name": "Python 3",
   "language": "python",
   "name": "python3"
  },
  "language_info": {
   "codemirror_mode": {
    "name": "ipython",
    "version": 3
   },
   "file_extension": ".py",
   "mimetype": "text/x-python",
   "name": "python",
   "nbconvert_exporter": "python",
   "pygments_lexer": "ipython3",
   "version": "3.8.8"
  }
 },
 "nbformat": 4,
 "nbformat_minor": 5
}
